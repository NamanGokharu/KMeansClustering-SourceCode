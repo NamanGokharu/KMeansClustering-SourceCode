{
 "cells": [
  {
   "cell_type": "code",
   "execution_count": 2,
   "id": "147d498d",
   "metadata": {},
   "outputs": [],
   "source": [
    "import pandas as pd\n",
    "import numpy as np\n",
    "import math"
   ]
  },
  {
   "cell_type": "code",
   "execution_count": 3,
   "id": "c480eeea",
   "metadata": {},
   "outputs": [],
   "source": [
    "weight=[185,170,168,179,182,188,180,180,183,180,180,177]\n",
    "height=[72,56,60,68,72,77,71,70,84,88,67,76]"
   ]
  },
  {
   "cell_type": "code",
   "execution_count": 5,
   "id": "ddc7ddef",
   "metadata": {},
   "outputs": [],
   "source": [
    "ds=pd.DataFrame(list(zip(weight,height)),index =[i for i in range(1,13)],columns =['Height','Weight'])"
   ]
  },
  {
   "cell_type": "code",
   "execution_count": 30,
   "id": "81d514e6",
   "metadata": {},
   "outputs": [
    {
     "data": {
      "text/html": [
       "<div>\n",
       "<style scoped>\n",
       "    .dataframe tbody tr th:only-of-type {\n",
       "        vertical-align: middle;\n",
       "    }\n",
       "\n",
       "    .dataframe tbody tr th {\n",
       "        vertical-align: top;\n",
       "    }\n",
       "\n",
       "    .dataframe thead th {\n",
       "        text-align: right;\n",
       "    }\n",
       "</style>\n",
       "<table border=\"1\" class=\"dataframe\">\n",
       "  <thead>\n",
       "    <tr style=\"text-align: right;\">\n",
       "      <th></th>\n",
       "      <th>Height</th>\n",
       "      <th>Weight</th>\n",
       "    </tr>\n",
       "  </thead>\n",
       "  <tbody>\n",
       "    <tr>\n",
       "      <th>1</th>\n",
       "      <td>185</td>\n",
       "      <td>72</td>\n",
       "    </tr>\n",
       "    <tr>\n",
       "      <th>2</th>\n",
       "      <td>170</td>\n",
       "      <td>56</td>\n",
       "    </tr>\n",
       "    <tr>\n",
       "      <th>3</th>\n",
       "      <td>168</td>\n",
       "      <td>60</td>\n",
       "    </tr>\n",
       "    <tr>\n",
       "      <th>4</th>\n",
       "      <td>179</td>\n",
       "      <td>68</td>\n",
       "    </tr>\n",
       "    <tr>\n",
       "      <th>5</th>\n",
       "      <td>182</td>\n",
       "      <td>72</td>\n",
       "    </tr>\n",
       "    <tr>\n",
       "      <th>6</th>\n",
       "      <td>188</td>\n",
       "      <td>77</td>\n",
       "    </tr>\n",
       "    <tr>\n",
       "      <th>7</th>\n",
       "      <td>180</td>\n",
       "      <td>71</td>\n",
       "    </tr>\n",
       "    <tr>\n",
       "      <th>8</th>\n",
       "      <td>180</td>\n",
       "      <td>70</td>\n",
       "    </tr>\n",
       "    <tr>\n",
       "      <th>9</th>\n",
       "      <td>183</td>\n",
       "      <td>84</td>\n",
       "    </tr>\n",
       "    <tr>\n",
       "      <th>10</th>\n",
       "      <td>180</td>\n",
       "      <td>88</td>\n",
       "    </tr>\n",
       "    <tr>\n",
       "      <th>11</th>\n",
       "      <td>180</td>\n",
       "      <td>67</td>\n",
       "    </tr>\n",
       "    <tr>\n",
       "      <th>12</th>\n",
       "      <td>177</td>\n",
       "      <td>76</td>\n",
       "    </tr>\n",
       "  </tbody>\n",
       "</table>\n",
       "</div>"
      ],
      "text/plain": [
       "    Height  Weight\n",
       "1      185      72\n",
       "2      170      56\n",
       "3      168      60\n",
       "4      179      68\n",
       "5      182      72\n",
       "6      188      77\n",
       "7      180      71\n",
       "8      180      70\n",
       "9      183      84\n",
       "10     180      88\n",
       "11     180      67\n",
       "12     177      76"
      ]
     },
     "execution_count": 30,
     "metadata": {},
     "output_type": "execute_result"
    }
   ],
   "source": [
    "ds"
   ]
  },
  {
   "cell_type": "markdown",
   "id": "5587de1a",
   "metadata": {},
   "source": [
    "<style font-size:2rem;>finding no. of clusters</style>"
   ]
  },
  {
   "cell_type": "markdown",
   "id": "c3bc4632",
   "metadata": {},
   "source": [
    "<p style=\"font-size:2rem;font-weight:bold;\">User input to cluster</p>"
   ]
  },
  {
   "cell_type": "code",
   "execution_count": 31,
   "id": "3cdc7e37",
   "metadata": {
    "scrolled": true
   },
   "outputs": [
    {
     "name": "stdout",
     "output_type": "stream",
     "text": [
      " Enter value of k2\n"
     ]
    }
   ],
   "source": [
    "k=int(input(\" Enter value of k\"))"
   ]
  },
  {
   "cell_type": "code",
   "execution_count": 32,
   "id": "ec6caf12",
   "metadata": {},
   "outputs": [],
   "source": [
    "#Selecting k clusters initially"
   ]
  },
  {
   "cell_type": "code",
   "execution_count": 47,
   "id": "7c9a82b5",
   "metadata": {},
   "outputs": [],
   "source": [
    "cluster_points=[]\n",
    "for i in range(k):\n",
    "    cluster_points.append(list(ds.iloc[i,:]))\n",
    "    "
   ]
  },
  {
   "cell_type": "code",
   "execution_count": 48,
   "id": "41504940",
   "metadata": {},
   "outputs": [
    {
     "data": {
      "text/plain": [
       "[[185, 72], [170, 56]]"
      ]
     },
     "execution_count": 48,
     "metadata": {},
     "output_type": "execute_result"
    }
   ],
   "source": [
    "cluster_points"
   ]
  },
  {
   "cell_type": "code",
   "execution_count": 49,
   "id": "ae099891",
   "metadata": {},
   "outputs": [
    {
     "name": "stdout",
     "output_type": "stream",
     "text": [
      "Final Centroids cluster1 is :[179.03125, 79.40625] and for cluster 2 is : [174.5, 62.5]\n",
      "\n",
      "cluster 1 is having : [[179, 68], [182, 72], [188, 77], [180, 71], [180, 70], [183, 84], [180, 88], [177, 76]]\n",
      "\n",
      "cluster 1 is having : [[168, 60], [180, 67]]\n"
     ]
    }
   ],
   "source": [
    "dist=[]\n",
    "k1=[]\n",
    "k2=[]\n",
    "def minimum_dist_point_index(d_forpoint):\n",
    "    return d_forpoint.index(min(d_forpoint))\n",
    "\n",
    "def eucliderian_distance(cluster_points,point):\n",
    "    d_forpoint=[]\n",
    "    for i in range(len(cluster_points)):\n",
    "        d1=math.sqrt(((cluster_points[i][0]-point[0])**2)+((cluster_points[i][1]-point[1])**2))\n",
    "        d_forpoint.append(d1)\n",
    "    indx=minimum_dist_point_index(d_forpoint)\n",
    "    cluster_points[indx][0]=(cluster_points[indx][0]+point[0])/2\n",
    "    cluster_points[indx][1]=(cluster_points[indx][1]+point[1])/2\n",
    "    if(indx==0):\n",
    "        k1.append(point)\n",
    "    else:\n",
    "        k2.append(point)\n",
    "    \n",
    "for i in range(k,len(ds)):\n",
    "    eucliderian_distance(cluster_points,list(ds.iloc[i,:]))\n"
   ]
  },
  {
   "cell_type": "code",
   "execution_count": 50,
   "id": "7bf59d41",
   "metadata": {},
   "outputs": [
    {
     "name": "stdout",
     "output_type": "stream",
     "text": [
      "Final Centroids cluster1 is :[179.03125, 79.40625] and for cluster 2 is : [174.5, 62.5]\n",
      "\n",
      "cluster 1 is having : [[179, 68], [182, 72], [188, 77], [180, 71], [180, 70], [183, 84], [180, 88], [177, 76]]\n",
      "\n",
      "cluster 1 is having : [[168, 60], [180, 67]]\n"
     ]
    }
   ],
   "source": [
    "#Output\n",
    "print(\"Final Centroids cluster1 is :\"+str(cluster_points[0])+\" and for cluster 2 is : \"+str(cluster_points[1]))\n",
    "print()\n",
    "print(f\"cluster 1 is having : {k1}\")\n",
    "print()\n",
    "print(f\"cluster 1 is having : {k2}\")"
   ]
  }
 ],
 "metadata": {
  "kernelspec": {
   "display_name": "Python 3 (ipykernel)",
   "language": "python",
   "name": "python3"
  },
  "language_info": {
   "codemirror_mode": {
    "name": "ipython",
    "version": 3
   },
   "file_extension": ".py",
   "mimetype": "text/x-python",
   "name": "python",
   "nbconvert_exporter": "python",
   "pygments_lexer": "ipython3",
   "version": "3.7.4"
  }
 },
 "nbformat": 4,
 "nbformat_minor": 5
}
